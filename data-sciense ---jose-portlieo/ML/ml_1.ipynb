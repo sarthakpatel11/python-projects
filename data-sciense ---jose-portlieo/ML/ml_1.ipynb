{
 "cells": [],
 "metadata": {
  "orig_nbformat": 4,
  "language_info": {
   "name": "python",
   "version": "3.9.5",
   "mimetype": "text/x-python",
   "codemirror_mode": {
    "name": "ipython",
    "version": 3
   },
   "pygments_lexer": "ipython3",
   "nbconvert_exporter": "python",
   "file_extension": ".py"
  },
  "kernelspec": {
   "name": "python3",
   "display_name": "Python 3.9.5 64-bit"
  },
  "interpreter": {
   "hash": "236469e0498b154c219cf04477033f9a1ae46bc5325a8f04b71a24cc5ff4844e"
  }
 },
 "nbformat": 4,
 "nbformat_minor": 2
}