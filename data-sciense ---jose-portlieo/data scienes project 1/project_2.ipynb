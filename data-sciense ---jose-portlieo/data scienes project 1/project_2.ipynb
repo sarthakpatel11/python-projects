{
 "cells": [
  {
   "cell_type": "code",
   "execution_count": 2,
   "metadata": {},
   "outputs": [
    {
     "ename": "NameError",
     "evalue": "name 'data' is not defined",
     "output_type": "error",
     "traceback": [
      "\u001b[0;31m---------------------------------------------------------------------------\u001b[0m",
      "\u001b[0;31mNameError\u001b[0m                                 Traceback (most recent call last)",
      "\u001b[1;32m/Users/sarthak/Desktop/learning stuff/python/data-sciense ---jose-portlieo/data scienes project 1/project_2.ipynb Cell 1'\u001b[0m in \u001b[0;36m<cell line: 9>\u001b[0;34m()\u001b[0m\n\u001b[1;32m      <a href='vscode-notebook-cell:/Users/sarthak/Desktop/learning%20stuff/python/data-sciense%20---jose-portlieo/data%20scienes%20project%201/project_2.ipynb#ch0000000?line=6'>7</a>\u001b[0m start \u001b[39m=\u001b[39m datetime\u001b[39m.\u001b[39mdatetime(\u001b[39m2006\u001b[39m,\u001b[39m1\u001b[39m,\u001b[39m1\u001b[39m)\n\u001b[1;32m      <a href='vscode-notebook-cell:/Users/sarthak/Desktop/learning%20stuff/python/data-sciense%20---jose-portlieo/data%20scienes%20project%201/project_2.ipynb#ch0000000?line=7'>8</a>\u001b[0m end \u001b[39m=\u001b[39m datetime\u001b[39m.\u001b[39mdatetime(\u001b[39m2016\u001b[39m,\u001b[39m1\u001b[39m,\u001b[39m1\u001b[39m)\n\u001b[0;32m----> <a href='vscode-notebook-cell:/Users/sarthak/Desktop/learning%20stuff/python/data-sciense%20---jose-portlieo/data%20scienes%20project%201/project_2.ipynb#ch0000000?line=8'>9</a>\u001b[0m BAC \u001b[39m=\u001b[39m data\u001b[39m.\u001b[39mDataReader(\u001b[39m\"\u001b[39m\u001b[39mBAC\u001b[39m\u001b[39m\"\u001b[39m,\u001b[39m\"\u001b[39m\u001b[39mgoogle\u001b[39m\u001b[39m\"\u001b[39m,start,end) \n\u001b[1;32m     <a href='vscode-notebook-cell:/Users/sarthak/Desktop/learning%20stuff/python/data-sciense%20---jose-portlieo/data%20scienes%20project%201/project_2.ipynb#ch0000000?line=9'>10</a>\u001b[0m BAC\n",
      "\u001b[0;31mNameError\u001b[0m: name 'data' is not defined"
     ]
    }
   ],
   "source": [
    "import numpy as np\n",
    "import pandas as pd\n",
    "import matplotlib.pyplot as plt\n",
    "import seaborn as sns\n",
    "import datetime\n",
    "from pandas_datareader import data,wb\n",
    "start = datetime.datetime(2006,1,1)\n",
    "end = datetime.datetime(2016,1,1)\n",
    "BAC = data.DataReader(\"BAC\",\"google\",start,end) \n",
    "BAC"
   ]
  }
 ],
 "metadata": {
  "interpreter": {
   "hash": "236469e0498b154c219cf04477033f9a1ae46bc5325a8f04b71a24cc5ff4844e"
  },
  "kernelspec": {
   "display_name": "Python 3.9.5 64-bit",
   "name": "python3"
  },
  "language_info": {
   "codemirror_mode": {
    "name": "ipython",
    "version": 3
   },
   "file_extension": ".py",
   "mimetype": "text/x-python",
   "name": "python",
   "nbconvert_exporter": "python",
   "pygments_lexer": "ipython3",
   "version": "3.10.2"
  },
  "orig_nbformat": 4
 },
 "nbformat": 4,
 "nbformat_minor": 2
}
